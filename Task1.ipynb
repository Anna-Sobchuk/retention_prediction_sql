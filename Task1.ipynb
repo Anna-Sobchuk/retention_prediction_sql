{
 "cells": [
  {
   "cell_type": "markdown",
   "id": "c44afb2a",
   "metadata": {},
   "source": [
    "# Task1\n",
    "Build a user retention curve (Rolling Retention). What percentage returned on any day from N to 30, where N = {0, 1, 2 ... 14}."
   ]
  },
  {
   "cell_type": "markdown",
   "id": "47f5ce05",
   "metadata": {},
   "source": [
    "```\n",
    "with logins as (\n",
    "    select \n",
    "        id_ru, date_login\n",
    "    from `logins` \n",
    "    where true\n",
    "        and (date_login between '2018-09-15' and '2018-12-15')\n",
    "),\n",
    "\n",
    "reg as (\n",
    "    select \n",
    "        id_ru, date_registration\n",
    "    from `regular_users` \n",
    "    where true\n",
    "        and (date_registration between '2018-09-15' and '2018-11-01')\n",
    "),\n",
    "\n",
    "select_days as (\n",
    "    select \n",
    "        id_ru,\n",
    "        date_diff(l.date_login, ru.date_registration, day) as num_day,\n",
    "    from reg\n",
    "        left join logins lo using(id_ru)\n",
    "    where true\n",
    "        and date_diff(lo.date_login, ru.date_registration, day) <= 30\n",
    "),\n",
    "\n",
    "last_log as (\n",
    "    select \n",
    "        id_ru,  \n",
    "        max(num_day) as last_retention\n",
    "    from select_days\n",
    "    group by 1\n",
    "),\n",
    "\n",
    "group_by_last as (\n",
    "    select \n",
    "        last_retention,\n",
    "        count(id_ru) as users\n",
    "    from last_log\n",
    "    group by 1\n",
    "    order by 1\n",
    ")\n",
    "\n",
    "select \n",
    "    last_retention,\n",
    "    sum(users) over(order by last_retention desc) / (select count(id_ru) from ru) as num_day_rolling\n",
    "from group_by_last\n",
    "order by 1\n",
    "```"
   ]
  }
 ],
 "metadata": {
  "kernelspec": {
   "display_name": "Python 3 (ipykernel)",
   "language": "python",
   "name": "python3"
  },
  "language_info": {
   "codemirror_mode": {
    "name": "ipython",
    "version": 3
   },
   "file_extension": ".py",
   "mimetype": "text/x-python",
   "name": "python",
   "nbconvert_exporter": "python",
   "pygments_lexer": "ipython3",
   "version": "3.9.12"
  }
 },
 "nbformat": 4,
 "nbformat_minor": 5
}
