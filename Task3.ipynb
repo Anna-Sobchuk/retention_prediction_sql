{
 "cells": [
  {
   "cell_type": "markdown",
   "id": "bedcbdaf",
   "metadata": {},
   "source": [
    "# Task3 \n",
    "\n",
    "Build a matrix of audiences (by X RU_platform, by Y - RU_age), age values - 10% percentiles. Fill in the received matrix: \n",
    "1) Number of RUs \n",
    "\n",
    "2) Percentage of RU from the total \n",
    "\n",
    "3) retention of the 1st day\n",
    "\n",
    "### 3.1"
   ]
  },
  {
   "cell_type": "markdown",
   "id": "814d0cff",
   "metadata": {},
   "source": [
    "```\n",
    "with reg as(\n",
    "    select\n",
    "        ceil(percent_rank() over(order by age)*10) as percentile,\n",
    "        platform,\n",
    "        count(*) over() as total\n",
    "    from 'regular_users'\n",
    "    where true\n",
    "    and (date_registration between '2018-09-15' and '2019-01-29'\n",
    ")\n",
    "    \n",
    "select *\n",
    "from reg\n",
    "pivot(max(total) for platform in ('mobile', 'desktop', 'tablet', 'tv')\n",
    "     )\n",
    "order by percentile\n",
    "```"
   ]
  },
  {
   "cell_type": "markdown",
   "id": "8bd16203",
   "metadata": {},
   "source": [
    "### 3.2"
   ]
  },
  {
   "cell_type": "markdown",
   "id": "d94f5fe8",
   "metadata": {},
   "source": [
    "```\n",
    "with reg as(\n",
    "    select\n",
    "        ceil(percent_rank() over(order by age)*10) as percentile,\n",
    "        platform,\n",
    "        count(*) over() as total\n",
    "    from 'regular_users'\n",
    "    where true\n",
    "    and (date_registration between '2018-09-15' and '2019-01-29'\n",
    "),\n",
    "\n",
    "to_count as(\n",
    "    select\n",
    "        percentile,\n",
    "        platform,\n",
    "        round(count(*) / max(total)*100, 2) as perc\n",
    "    from reg\n",
    "    group by 1, 2\n",
    "    order by 1, 2\n",
    ")\n",
    "    \n",
    "select *\n",
    "from reg\n",
    "pivot(max(perc) for platform in ('mobile', 'desktop', 'tablet', 'tv')\n",
    "     )\n",
    "order by percentile\n",
    "```"
   ]
  },
  {
   "cell_type": "markdown",
   "id": "a654b954",
   "metadata": {},
   "source": [
    "### 3.3"
   ]
  },
  {
   "cell_type": "markdown",
   "id": "707ca065",
   "metadata": {},
   "source": [
    "```\n",
    "with reg as(\n",
    "    select\n",
    "        id_ru,\n",
    "        date_registration,\n",
    "        ceil(percent_rank() over(order by age)*10) as percentile,\n",
    "        platform\n",
    "    from 'regular_users'\n",
    "    where true\n",
    "    and (date_registration between '2018-09-15' and '2019-01-29'\n",
    "),\n",
    "    \n",
    "logins as(\n",
    "    select\n",
    "        id_ru,\n",
    "    date_login,\n",
    "    from 'logins'\n",
    "    where true\n",
    "        and (date_login between '2018-09-15' and '2019-01-30')\n",
    "),\n",
    "    \n",
    "all_retention as (\n",
    "    select\n",
    "        id_ru,\n",
    "        max(if(date_diff(date_login, date_registration, day) = 1, 1, 0)) as reten\n",
    "    from reg\n",
    "        left join logins using(id_ru)\n",
    "    group by 1\n",
    "),    \n",
    "    \n",
    "percen as (\n",
    "    select   \n",
    "        if(percentile < 1, 1, percentile) as percentile,\n",
    "        platform,\n",
    "        round(sum(reten) / count(reten)* 100, 2) as percent\n",
    "    from reg\n",
    "        left join all_retention using(id_ru)\n",
    "    group by 1, 2\n",
    "    order by 1, 2\n",
    ")    \n",
    "    \n",
    "select *\n",
    "from percen\n",
    "    pivot(max(percent) for platform in ('mobile', 'desktop', 'tablet', 'tv') \n",
    "         )\n",
    "order by percentile\n",
    "```"
   ]
  }
 ],
 "metadata": {
  "kernelspec": {
   "display_name": "Python 3 (ipykernel)",
   "language": "python",
   "name": "python3"
  },
  "language_info": {
   "codemirror_mode": {
    "name": "ipython",
    "version": 3
   },
   "file_extension": ".py",
   "mimetype": "text/x-python",
   "name": "python",
   "nbconvert_exporter": "python",
   "pygments_lexer": "ipython3",
   "version": "3.9.12"
  }
 },
 "nbformat": 4,
 "nbformat_minor": 5
}
